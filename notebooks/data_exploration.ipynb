{
  "cells": [
    {
      "cell_type": "code",
      "execution_count": 6,
      "metadata": {},
      "outputs": [],
      "source": [
        "import json\n",
        "import re\n",
        "from collections import Counter, defaultdict\n",
        "import pandas as pd\n",
        "import matplotlib.pyplot as plt\n",
        "import seaborn as sns\n",
        "\n",
        "sns.set_style('whitegrid')\n",
        "%matplotlib inline\n"
      ]
    },
    {
      "cell_type": "code",
      "execution_count": 7,
      "metadata": {},
      "outputs": [
        {
          "name": "stdout",
          "output_type": "stream",
          "text": [
            "Total nodes: 291\n"
          ]
        }
      ],
      "source": [
        "with open('C:/Users/LAKSHYA PALIWAL/CoreNet/data/analysis-with-code.json', 'r', encoding='utf-8') as f:\n",
        "    data = json.load(f)\n",
        "\n",
        "nodes = data['analysisData']['graphNodes']\n",
        "print(f\"Total nodes: {len(nodes)}\")\n",
        "\n",
        "# Parse ID structure\n",
        "def parse_id(node_id):\n",
        "    parts = node_id.split(':')\n",
        "    if len(parts) >= 3:\n",
        "        filepath = parts[1]\n",
        "        return {\n",
        "            'filepath': filepath,\n",
        "            'filename': filepath.split('/')[-1],\n",
        "            'directory': '/'.join(filepath.split('/')[:-1]) if '/' in filepath else '',\n",
        "        }\n",
        "    return {}\n",
        "\n",
        "for node in nodes:\n",
        "    node.update(parse_id(node['id']))\n",
        "\n",
        "df = pd.DataFrame(nodes)\n"
      ]
    },
    {
      "cell_type": "code",
      "execution_count": 8,
      "metadata": {},
      "outputs": [
        {
          "data": {
            "text/html": [
              "<div>\n",
              "<style scoped>\n",
              "    .dataframe tbody tr th:only-of-type {\n",
              "        vertical-align: middle;\n",
              "    }\n",
              "\n",
              "    .dataframe tbody tr th {\n",
              "        vertical-align: top;\n",
              "    }\n",
              "\n",
              "    .dataframe thead th {\n",
              "        text-align: right;\n",
              "    }\n",
              "</style>\n",
              "<table border=\"1\" class=\"dataframe\">\n",
              "  <thead>\n",
              "    <tr style=\"text-align: right;\">\n",
              "      <th></th>\n",
              "      <th>id</th>\n",
              "      <th>label</th>\n",
              "      <th>code</th>\n",
              "      <th>type</th>\n",
              "      <th>filepath</th>\n",
              "      <th>filename</th>\n",
              "      <th>directory</th>\n",
              "    </tr>\n",
              "  </thead>\n",
              "  <tbody>\n",
              "    <tr>\n",
              "      <th>0</th>\n",
              "      <td>code:fastapi/applications.py:FastAPI:50</td>\n",
              "      <td>FastAPI</td>\n",
              "      <td>\\nclass FastAPI(Starlette):\\n    \"\"\"\\n    `Fas...</td>\n",
              "      <td>Class</td>\n",
              "      <td>fastapi/applications.py</td>\n",
              "      <td>applications.py</td>\n",
              "      <td>fastapi</td>\n",
              "    </tr>\n",
              "    <tr>\n",
              "      <th>1</th>\n",
              "      <td>code:fastapi/applications.py:__call__:1129</td>\n",
              "      <td>__call__</td>\n",
              "      <td>\\nasync def __call__(self, scope: Scope, recei...</td>\n",
              "      <td>Method</td>\n",
              "      <td>fastapi/applications.py</td>\n",
              "      <td>applications.py</td>\n",
              "      <td>fastapi</td>\n",
              "    </tr>\n",
              "    <tr>\n",
              "      <th>2</th>\n",
              "      <td>code:fastapi/applications.py:__init__:66</td>\n",
              "      <td>__init__</td>\n",
              "      <td>\\ndef __init__(\\n    self: AppType,\\n    *,\\n ...</td>\n",
              "      <td>Method</td>\n",
              "      <td>fastapi/applications.py</td>\n",
              "      <td>applications.py</td>\n",
              "      <td>fastapi</td>\n",
              "    </tr>\n",
              "    <tr>\n",
              "      <th>3</th>\n",
              "      <td>code:fastapi/applications.py:add_api_route:1134</td>\n",
              "      <td>add_api_route</td>\n",
              "      <td>\\ndef add_api_route(\\n    self,\\n    path: str...</td>\n",
              "      <td>Method</td>\n",
              "      <td>fastapi/applications.py</td>\n",
              "      <td>applications.py</td>\n",
              "      <td>fastapi</td>\n",
              "    </tr>\n",
              "    <tr>\n",
              "      <th>4</th>\n",
              "      <td>code:fastapi/applications.py:add_api_websocket...</td>\n",
              "      <td>add_api_websocket_route</td>\n",
              "      <td>\\ndef add_api_websocket_route(\\n    self,\\n   ...</td>\n",
              "      <td>Method</td>\n",
              "      <td>fastapi/applications.py</td>\n",
              "      <td>applications.py</td>\n",
              "      <td>fastapi</td>\n",
              "    </tr>\n",
              "  </tbody>\n",
              "</table>\n",
              "</div>"
            ],
            "text/plain": [
              "                                                  id                    label  \\\n",
              "0            code:fastapi/applications.py:FastAPI:50                  FastAPI   \n",
              "1         code:fastapi/applications.py:__call__:1129                 __call__   \n",
              "2           code:fastapi/applications.py:__init__:66                 __init__   \n",
              "3    code:fastapi/applications.py:add_api_route:1134            add_api_route   \n",
              "4  code:fastapi/applications.py:add_api_websocket...  add_api_websocket_route   \n",
              "\n",
              "                                                code    type  \\\n",
              "0  \\nclass FastAPI(Starlette):\\n    \"\"\"\\n    `Fas...   Class   \n",
              "1  \\nasync def __call__(self, scope: Scope, recei...  Method   \n",
              "2  \\ndef __init__(\\n    self: AppType,\\n    *,\\n ...  Method   \n",
              "3  \\ndef add_api_route(\\n    self,\\n    path: str...  Method   \n",
              "4  \\ndef add_api_websocket_route(\\n    self,\\n   ...  Method   \n",
              "\n",
              "                  filepath         filename directory  \n",
              "0  fastapi/applications.py  applications.py   fastapi  \n",
              "1  fastapi/applications.py  applications.py   fastapi  \n",
              "2  fastapi/applications.py  applications.py   fastapi  \n",
              "3  fastapi/applications.py  applications.py   fastapi  \n",
              "4  fastapi/applications.py  applications.py   fastapi  "
            ]
          },
          "execution_count": 8,
          "metadata": {},
          "output_type": "execute_result"
        }
      ],
      "source": [
        "df.head()"
      ]
    },
    {
      "cell_type": "code",
      "execution_count": 9,
      "metadata": {},
      "outputs": [
        {
          "data": {
            "text/plain": [
              "(291, 7)"
            ]
          },
          "execution_count": 9,
          "metadata": {},
          "output_type": "execute_result"
        }
      ],
      "source": [
        "df.shape"
      ]
    },
    {
      "cell_type": "markdown",
      "metadata": {},
      "source": [
        "## 1. Type Distribution\n"
      ]
    },
    {
      "cell_type": "code",
      "execution_count": 10,
      "metadata": {},
      "outputs": [
        {
          "data": {
            "text/plain": [
              "6"
            ]
          },
          "execution_count": 10,
          "metadata": {},
          "output_type": "execute_result"
        }
      ],
      "source": [
        "type_counts = df['type'].value_counts()\n",
        "df['type'].nunique()\n"
      ]
    },
    {
      "cell_type": "code",
      "execution_count": 11,
      "metadata": {},
      "outputs": [
        {
          "data": {
            "image/png": "[encoded data removed]",
            "text/plain": [
              "<Figure size 1000x500 with 1 Axes>"
            ]
          },
          "metadata": {},
          "output_type": "display_data"
        }
      ],
      "source": [
        "plt.figure(figsize=(10, 5))\n",
        "type_counts.plot(kind='bar')\n",
        "plt.title('Distribution of Node Types')\n",
        "plt.xlabel('Type')\n",
        "plt.ylabel('Count')\n",
        "plt.xticks(rotation=45)\n",
        "plt.tight_layout()\n",
        "plt.show()"
      ]
    },
    {
      "cell_type": "code",
      "execution_count": 12,
      "metadata": {},
      "outputs": [
        {
          "data": {
            "text/plain": [
              "label\n",
              "__init__                   34\n",
              "__call__                   13\n",
              "decorator                  10\n",
              "app                         6\n",
              "openapi                     3\n",
              "utils.py                    3\n",
              "__init__.py                 3\n",
              "__repr__                    3\n",
              "Header                      3\n",
              "include_router              2\n",
              "api_route                   2\n",
              "delete                      2\n",
              "get                         2\n",
              "websocket_route             2\n",
              "websocket                   2\n",
              "put                         2\n",
              "options                     2\n",
              "patch                       2\n",
              "post                        2\n",
              "trace                       2\n",
              "add_api_route               2\n",
              "HTTPBase                    2\n",
              "Config                      2\n",
              "HTTPBearer                  2\n",
              "File                        2\n",
              "head                        2\n",
              "on_event                    2\n",
              "middleware                  2\n",
              "add_api_websocket_route     2\n",
              "Body                        2\n",
              "Name: count, dtype: int64"
            ]
          },
          "execution_count": 12,
          "metadata": {},
          "output_type": "execute_result"
        }
      ],
      "source": [
        "\n",
        "df['label'].value_counts().head(30)\n"
      ]
    },
    {
      "cell_type": "code",
      "execution_count": 14,
      "metadata": {},
      "outputs": [
        {
          "data": {
            "text/plain": [
              "label\n",
              "__init__                        34\n",
              "__call__                        13\n",
              "__repr__                         3\n",
              "__str__                          1\n",
              "__get_pydantic_core_schema__     1\n",
              "__get_pydantic_json_schema__     1\n",
              "__get_validators__               1\n",
              "Name: count, dtype: int64"
            ]
          },
          "execution_count": 14,
          "metadata": {},
          "output_type": "execute_result"
        }
      ],
      "source": [
        "\n",
        "# Dunder methods\n",
        "dunder = df[df['label'].str.match(r'^__.*__$', na=False)]\n",
        "dunder['label'].value_counts().head(10)"
      ]
    },
    {
      "cell_type": "code",
      "execution_count": 15,
      "metadata": {},
      "outputs": [
        {
          "data": {
            "text/plain": [
              "label\n",
              "_validate                            1\n",
              "_get_openapi_operation_parameters    1\n",
              "_merge_lifespan_context              1\n",
              "_prepare_response_content            1\n",
              "Name: count, dtype: int64"
            ]
          },
          "execution_count": 15,
          "metadata": {},
          "output_type": "execute_result"
        }
      ],
      "source": [
        "# Private methods\n",
        "private = df[df['label'].str.match(r'^_[^_].*', na=False)]\n",
        "private['label'].value_counts().head(10)"
      ]
    },
    {
      "cell_type": "code",
      "execution_count": 16,
      "metadata": {},
      "outputs": [
        {
          "data": {
            "text/plain": [
              "label\n",
              "delete     2\n",
              "get        2\n",
              "head       2\n",
              "options    2\n",
              "patch      2\n",
              "post       2\n",
              "put        2\n",
              "trace      2\n",
              "Name: count, dtype: int64"
            ]
          },
          "execution_count": 16,
          "metadata": {},
          "output_type": "execute_result"
        }
      ],
      "source": [
        "# HTTP verbs (CORE indicators)\n",
        "http_verbs = ['get', 'post', 'put', 'patch', 'delete', 'options', 'head', 'trace']\n",
        "http_matches = df[df['label'].isin(http_verbs)]\n",
        "http_matches['label'].value_counts()"
      ]
    },
    {
      "cell_type": "code",
      "execution_count": 17,
      "metadata": {},
      "outputs": [
        {
          "name": "stdout",
          "output_type": "stream",
          "text": [
            "\n",
            "get_*: 15 functions\n",
            "label\n",
            "get_redoc_html                         1\n",
            "get_swagger_ui_html                    1\n",
            "get_swagger_ui_oauth2_redirect_html    1\n",
            "get_fields_from_routes                 1\n",
            "get_openapi                            1\n",
            "Name: count, dtype: int64\n",
            "\n",
            "is_*: 1 functions\n",
            "['is_body_allowed_for_status_code']\n",
            "\n",
            "*_handler: 6 functions\n",
            "label\n",
            "exception_handler                                 1\n",
            "http_exception_handler                            1\n",
            "request_validation_exception_handler              1\n",
            "websocket_request_validation_exception_handler    1\n",
            "get_request_handler                               1\n",
            "Name: count, dtype: int64\n",
            "\n",
            "*_encoder: 2 functions\n",
            "['decimal_encoder', 'jsonable_encoder']\n",
            "\n",
            "generate_*: 5 functions\n",
            "['generate_encoders_by_class_tuples', 'generate_operation_id', 'generate_operation_summary', 'generate_operation_id_for_path', 'generate_unique_id']\n"
          ]
        }
      ],
      "source": [
        "\n",
        "\n",
        "patterns = {\n",
        "    'get_*': r'^get_',\n",
        "    'set_*': r'^set_',\n",
        "    'is_*': r'^is_',\n",
        "    'has_*': r'^has_',\n",
        "    'to_*': r'^to_',\n",
        "    'from_*': r'^from_',\n",
        "    '*_handler': r'.*_handler$',\n",
        "    '*_encoder': r'.*_encoder$',\n",
        "    '*_decoder': r'.*_decoder$',\n",
        "    '*_parser': r'.*_parser$',\n",
        "    '*_validator': r'.*_validator$',\n",
        "    'format_*': r'^format_',\n",
        "    'parse_*': r'^parse_',\n",
        "    'validate_*': r'^validate_',\n",
        "    'generate_*': r'^generate_',\n",
        "}\n",
        "\n",
        "for pattern_name, regex in patterns.items():\n",
        "    matches = df[df['label'].str.match(regex, case=False, na=False)]\n",
        "    if len(matches) > 0:\n",
        "        print(f\"\\n{pattern_name}: {len(matches)} functions\")\n",
        "        if len(matches) <= 5:\n",
        "            print(matches['label'].tolist())\n",
        "        else:\n",
        "            print(matches['label'].value_counts().head(5))\n"
      ]
    },
    {
      "cell_type": "markdown",
      "metadata": {},
      "source": [
        "## 5. File Path Patterns\n"
      ]
    },
    {
      "cell_type": "code",
      "execution_count": 18,
      "metadata": {},
      "outputs": [
        {
          "name": "stdout",
          "output_type": "stream",
          "text": [
            "\n",
            "Top 20 Files by Function Count:\n",
            "filename\n",
            "models.py                 48\n",
            "routing.py                45\n",
            "applications.py           32\n",
            "params.py                 24\n",
            "utils.py                  18\n",
            "oauth2.py                 15\n",
            "http.py                   14\n",
            "exceptions.py             14\n",
            "api_key.py                11\n",
            "param_functions.py         9\n",
            "responses.py               4\n",
            "encoders.py                4\n",
            "exception_handlers.py      3\n",
            "docs.py                    3\n",
            "asyncexitstack.py          3\n",
            "open_id_connect_url.py     3\n",
            "base.py                    1\n",
            "Name: count, dtype: int64\n",
            "\n",
            "Top 15 Directories:\n",
            "directory\n",
            "fastapi               143\n",
            "fastapi/openapi        60\n",
            "fastapi/security       45\n",
            "fastapi/middleware      3\n",
            "Name: count, dtype: int64\n"
          ]
        }
      ],
      "source": [
        "\n",
        "print(\"\\nTop 20 Files by Function Count:\")\n",
        "print(df['filename'].value_counts().head(20))\n",
        "\n",
        "print(\"\\nTop 15 Directories:\")\n",
        "print(df['directory'].value_counts().head(15))\n"
      ]
    },
    {
      "cell_type": "markdown",
      "metadata": {},
      "source": [
        "## 6. Exception/Error Classes\n"
      ]
    },
    {
      "cell_type": "code",
      "execution_count": 20,
      "metadata": {},
      "outputs": [
        {
          "name": "stdout",
          "output_type": "stream",
          "text": [
            "Exception/Error classes: 14\n",
            "\n",
            "All exception/error labels:\n",
            "                                              label      type               filename\n",
            "13                                exception_handler    Method        applications.py\n",
            "36                           http_exception_handler  Function  exception_handlers.py\n",
            "37             request_validation_exception_handler  Function  exception_handlers.py\n",
            "38   websocket_request_validation_exception_handler  Function  exception_handlers.py\n",
            "39                                     FastAPIError     Class          exceptions.py\n",
            "40                                    HTTPException     Class          exceptions.py\n",
            "41                           RequestValidationError     Class          exceptions.py\n",
            "42                          ResponseValidationError     Class          exceptions.py\n",
            "43                              ValidationException     Class          exceptions.py\n",
            "44                               WebSocketException     Class          exceptions.py\n",
            "45                  WebSocketRequestValidationError     Class          exceptions.py\n",
            "52                                           errors    Method          exceptions.py\n",
            "253                           exception_handlers.py      File                    NaN\n",
            "254                                   exceptions.py      File                    NaN\n"
          ]
        }
      ],
      "source": [
        "exceptions = df[df['label'].str.contains('Exception|Error', case=False, na=False)]\n",
        "print(f\"Exception/Error classes: {len(exceptions)}\")\n",
        "print(\"\\nAll exception/error labels:\")\n",
        "print(exceptions[['label', 'type', 'filename']].to_string())\n"
      ]
    },
    {
      "cell_type": "markdown",
      "metadata": {},
      "source": [
        "## 7. Build Preliminary Scoring Heuristic\n"
      ]
    },
    {
      "cell_type": "code",
      "execution_count": 21,
      "metadata": {},
      "outputs": [
        {
          "name": "stdout",
          "output_type": "stream",
          "text": [
            "Score Distribution:\n",
            "count    291.000000\n",
            "mean       0.474570\n",
            "std        0.247552\n",
            "min        0.000000\n",
            "25%        0.200000\n",
            "50%        0.500000\n",
            "75%        0.700000\n",
            "max        1.000000\n",
            "Name: heuristic_score, dtype: float64\n"
          ]
        }
      ],
      "source": [
        "def score_by_patterns(row):\n",
        "    \"\"\"Preliminary scoring: 0=utility, 1=core\"\"\"\n",
        "    score = 0.5  # neutral\n",
        "    label = row['label']\n",
        "    node_type = row['type']\n",
        "    filepath = str(row.get('filepath', ''))\n",
        "    \n",
        "    # Path-based (-0.3 for utility paths, +0.3 for core paths)\n",
        "    if any(x in filepath for x in ['utils/', 'encoders.py', 'exceptions.py', 'models.py', 'openapi/models']):\n",
        "        score -= 0.3\n",
        "    if any(x in filepath for x in ['applications.py', 'routing/', 'dependencies/', 'security/']):\n",
        "        score += 0.3\n",
        "    \n",
        "    # HTTP verbs = CORE\n",
        "    if label in ['get', 'post', 'put', 'patch', 'delete', 'options', 'head', 'trace']:\n",
        "        score += 0.4\n",
        "    \n",
        "    # Utility name patterns\n",
        "    if re.match(r'^(get|set|to|from|format|parse)_', label):\n",
        "        score -= 0.3\n",
        "    if label.endswith(('_handler', '_encoder', '_decoder', '_parser', '_validator')):\n",
        "        score -= 0.3\n",
        "    if label.endswith(('Exception', 'Error')):\n",
        "        score -= 0.2\n",
        "    if re.match(r'^__.*__$', label):\n",
        "        score -= 0.1\n",
        "    if label == 'decorator':\n",
        "        score -= 0.2\n",
        "    \n",
        "    # Type-based\n",
        "    if node_type == 'Class' and label.endswith(('Exception', 'Error', 'Model', 'Schema')):\n",
        "        score -= 0.2\n",
        "    \n",
        "    return max(0, min(1, score))\n",
        "\n",
        "df['heuristic_score'] = df.apply(score_by_patterns, axis=1)\n",
        "print(\"Score Distribution:\")\n",
        "print(df['heuristic_score'].describe())\n"
      ]
    },
    {
      "cell_type": "code",
      "execution_count": 22,
      "metadata": {},
      "outputs": [
        {
          "name": "stdout",
          "output_type": "stream",
          "text": [
            "================================================================================\n",
            "TOP 20 'CORE' FUNCTIONS (highest scores)\n",
            "================================================================================\n",
            "                       label    type         filename  heuristic_score\n",
            "12                    delete  Method  applications.py              1.0\n",
            "14                       get  Method  applications.py              1.0\n",
            "15                      head  Method  applications.py              1.0\n",
            "21                   options  Method  applications.py              1.0\n",
            "22                     patch  Method  applications.py              1.0\n",
            "23                      post  Method  applications.py              1.0\n",
            "24                       put  Method  applications.py              1.0\n",
            "29                     trace  Method  applications.py              1.0\n",
            "175                   delete  Method       routing.py              0.9\n",
            "176                      get  Method       routing.py              0.9\n",
            "180                     head  Method       routing.py              0.9\n",
            "186                  options  Method       routing.py              0.9\n",
            "187                    patch  Method       routing.py              0.9\n",
            "188                     post  Method       routing.py              0.9\n",
            "189                      put  Method       routing.py              0.9\n",
            "194                    trace  Method       routing.py              0.9\n",
            "0                    FastAPI   Class  applications.py              0.8\n",
            "3              add_api_route  Method  applications.py              0.8\n",
            "4    add_api_websocket_route  Method  applications.py              0.8\n",
            "5                  api_route  Method  applications.py              0.8\n",
            "\n",
            "================================================================================\n",
            "TOP 20 'UTILITY' FUNCTIONS (lowest scores)\n",
            "================================================================================\n",
            "                               label      type       filename  heuristic_score\n",
            "32                   decimal_encoder  Function    encoders.py              0.0\n",
            "35                  jsonable_encoder  Function    encoders.py              0.0\n",
            "39                      FastAPIError     Class  exceptions.py              0.0\n",
            "40                     HTTPException     Class  exceptions.py              0.0\n",
            "41            RequestValidationError     Class  exceptions.py              0.0\n",
            "42           ResponseValidationError     Class  exceptions.py              0.0\n",
            "43               ValidationException     Class  exceptions.py              0.0\n",
            "44                WebSocketException     Class  exceptions.py              0.0\n",
            "45   WebSocketRequestValidationError     Class  exceptions.py              0.0\n",
            "95                            Schema     Class      models.py              0.0\n",
            "177              get_request_handler  Function     routing.py              0.0\n",
            "178                get_route_handler    Method     routing.py              0.0\n",
            "46                          __init__    Method  exceptions.py              0.1\n",
            "47                          __init__    Method  exceptions.py              0.1\n",
            "48                          __init__    Method  exceptions.py              0.1\n",
            "49                          __init__    Method  exceptions.py              0.1\n",
            "50                          __init__    Method  exceptions.py              0.1\n",
            "51                           __str__    Method  exceptions.py              0.1\n",
            "102     __get_pydantic_core_schema__    Method      models.py              0.1\n",
            "103     __get_pydantic_json_schema__    Method      models.py              0.1\n"
          ]
        }
      ],
      "source": [
        "print(\"=\" * 80)\n",
        "print(\"TOP 20 'CORE' FUNCTIONS (highest scores)\")\n",
        "print(\"=\" * 80)\n",
        "top_core = df.nlargest(20, 'heuristic_score')[['label', 'type', 'filename', 'heuristic_score']]\n",
        "print(top_core.to_string())\n",
        "\n",
        "print(\"\\n\" + \"=\" * 80)\n",
        "print(\"TOP 20 'UTILITY' FUNCTIONS (lowest scores)\")\n",
        "print(\"=\" * 80)\n",
        "top_util = df.nsmallest(20, 'heuristic_score')[['label', 'type', 'filename', 'heuristic_score']]\n",
        "print(top_util.to_string())\n"
      ]
    },
    {
      "cell_type": "markdown",
      "metadata": {},
      "source": [
        "## 9. Visualization\n"
      ]
    },
    {
      "cell_type": "code",
      "execution_count": 23,
      "metadata": {},
      "outputs": [
        {
          "data": {
            "image/png": "[encoded data removed]",
            "text/plain": [
              "<Figure size 1400x500 with 2 Axes>"
            ]
          },
          "metadata": {},
          "output_type": "display_data"
        }
      ],
      "source": [
        "fig, axes = plt.subplots(1, 2, figsize=(14, 5))\n",
        "\n",
        "# Score histogram\n",
        "axes[0].hist(df['heuristic_score'], bins=20, edgecolor='black')\n",
        "axes[0].set_title('Heuristic Score Distribution')\n",
        "axes[0].set_xlabel('Score (0=utility, 1=core)')\n",
        "axes[0].set_ylabel('Count')\n",
        "axes[0].axvline(0.4, color='red', linestyle='--', label='Utility threshold')\n",
        "axes[0].axvline(0.6, color='green', linestyle='--', label='Core threshold')\n",
        "axes[0].legend()\n",
        "\n",
        "# Score by type\n",
        "df.boxplot(column='heuristic_score', by='type', ax=axes[1])\n",
        "axes[1].set_title('Score Distribution by Type')\n",
        "axes[1].set_xlabel('Type')\n",
        "axes[1].set_ylabel('Heuristic Score')\n",
        "plt.suptitle('')\n",
        "\n",
        "plt.tight_layout()\n",
        "plt.show()\n"
      ]
    },
    {
      "cell_type": "markdown",
      "metadata": {},
      "source": [
        "## 10. Final Summary\n"
      ]
    },
    {
      "cell_type": "code",
      "execution_count": null,
      "metadata": {},
      "outputs": [],
      "source": []
    }
  ],
  "metadata": {
    "kernelspec": {
      "display_name": "venv",
      "language": "python",
      "name": "python3"
    },
    "language_info": {
      "codemirror_mode": {
        "name": "ipython",
        "version": 3
      },
      "file_extension": ".py",
      "mimetype": "text/x-python",
      "name": "python",
      "nbconvert_exporter": "python",
      "pygments_lexer": "ipython3",
      "version": "3.10.11"
    }
  },
  "nbformat": 4,
  "nbformat_minor": 2
}
